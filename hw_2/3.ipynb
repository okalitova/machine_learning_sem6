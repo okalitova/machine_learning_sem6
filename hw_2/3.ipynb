{
 "cells": [
  {
   "cell_type": "code",
   "execution_count": 1,
   "metadata": {
    "collapsed": false,
    "scrolled": true
   },
   "outputs": [
    {
     "name": "stderr",
     "output_type": "stream",
     "text": [
      "/home/nimloth/anaconda3/envs/python27/lib/python2.7/site-packages/sklearn/cross_validation.py:44: DeprecationWarning: This module was deprecated in version 0.18 in favor of the model_selection module into which all the refactored classes and functions are moved. Also note that the interface of the new CV iterators are different from that of this module. This module will be removed in 0.20.\n",
      "  \"This module will be removed in 0.20.\", DeprecationWarning)\n"
     ]
    }
   ],
   "source": [
    "from sklearn.model_selection import cross_val_score\n",
    "from IPython.display import Image\n",
    "from sklearn import tree\n",
    "from sklearn.metrics import accuracy_score, classification_report\n",
    "import numpy as np\n",
    "import pandas as pd\n",
    "import matplotlib.pyplot as plt\n",
    "import math\n",
    "from sklearn.cross_validation import train_test_split\n",
    "from sklearn.metrics import accuracy_score, classification_report\n",
    "from sklearn.metrics import mean_squared_error"
   ]
  },
  {
   "cell_type": "markdown",
   "metadata": {},
   "source": [
    "Сначала мне что-то ударило в голову и я написала классификатор :("
   ]
  },
  {
   "cell_type": "code",
   "execution_count": 2,
   "metadata": {
    "collapsed": false
   },
   "outputs": [],
   "source": [
    "class DecisionTreeClassifier:\n",
    "    \n",
    "    def __init__(self, max_depth):\n",
    "        self.max_depth = max_depth\n",
    "        if self.max_depth != 1:\n",
    "            self.L = DecisionTreeClassifier(max_depth=self.max_depth - 1)\n",
    "            self.R = DecisionTreeClassifier(max_depth=self.max_depth - 1)\n",
    "            \n",
    "    def advanced_log(self, x):\n",
    "        if x == 0:\n",
    "            return 0\n",
    "        else:\n",
    "            return math.log(x)\n",
    "        \n",
    "    def gini(self, A_p_0, A_p_1, B_p_0, B_p_1):\n",
    "        N = A_p_0 + A_p_1 + B_p_0 + B_p_1\n",
    "        L = A_p_0 + A_p_1\n",
    "        R = B_p_0 + B_p_1\n",
    "        if L == 0 or R == 0:\n",
    "            return 1\n",
    "        A_p_0 = A_p_0 / L\n",
    "        A_p_1 = A_p_1 / L\n",
    "        B_p_0 = B_p_0 / R\n",
    "        B_p_1 = B_p_1 / R\n",
    "        g = L / N * (- A_p_0 * self.advanced_log(A_p_0) - A_p_1 * self.advanced_log(A_p_1))\n",
    "        + R / N * (- B_p_0 * self.advanced_log(B_p_0) - B_p_1 * self.advanced_log(B_p_1))\n",
    "        return g\n",
    "        \n",
    "    def fit(self, train_data, train_target):\n",
    "        class0 = 0\n",
    "        class1 = 0\n",
    "        for elem in train_target:\n",
    "            if elem == 0:\n",
    "                class0 = class0 + 1\n",
    "            else:\n",
    "                class1 = class1 + 1\n",
    "        if class0 >= class1:\n",
    "            self.ans = 0\n",
    "        else:\n",
    "            self.ans = 1\n",
    "            \n",
    "        if self.max_depth == 1:\n",
    "            return\n",
    "        \n",
    "        min_g = 1\n",
    "        for ith_arg in range(len(train_data[0])):\n",
    "            for jth_threshold in range(len(train_data)):\n",
    "                threshold = train_data[jth_threshold][ith_arg]\n",
    "                A_p_0 = A_p_1 = B_p_0 = B_p_1 = 0\n",
    "                for jth_elem in range(len(train_data)):\n",
    "                    if train_data[jth_elem][ith_arg] <= threshold:\n",
    "                        if train_target[jth_elem] == 0:\n",
    "                            A_p_0 = A_p_0 + 1\n",
    "                        else:\n",
    "                            A_p_1 = A_p_1 + 1\n",
    "                    else:\n",
    "                        if train_target[jth_elem] == 0:\n",
    "                            B_p_0 = B_p_0 + 1\n",
    "                        else:\n",
    "                            B_p_1 = B_p_1 + 1\n",
    "                g = self.gini(A_p_0, A_p_1, B_p_0, B_p_1)\n",
    "                if g < min_g:\n",
    "                    self.threshold = threshold\n",
    "                    self.arg = ith_arg\n",
    "                    min_g = g\n",
    "        if min_g == 1:\n",
    "            return\n",
    "        A_train = []\n",
    "        A_target = []\n",
    "        B_train = []\n",
    "        B_target = []\n",
    "        for jth_elem in range(len(train_data)):\n",
    "            if train_data[jth_elem][self.arg] <= self.threshold:\n",
    "                A_train.append(train_data[jth_elem])\n",
    "                A_target.append(train_target[jth_elem])\n",
    "            else:\n",
    "                B_train.append(train_data[jth_elem])\n",
    "                B_target.append(train_target[jth_elem])\n",
    "        self.L.fit(A_train, A_target)\n",
    "        self.R.fit(B_train, B_target)\n",
    "    \n",
    "    def predict_for_one(self, test_data):\n",
    "        if hasattr(self, 'threshold'):\n",
    "            if test_data[self.arg] <= self.threshold:\n",
    "                return self.L.predict_for_one(test_data)\n",
    "            else:\n",
    "                return self.R.predict_for_one(test_data)\n",
    "        else:\n",
    "            if hasattr(self, 'ans'):\n",
    "                return self.ans\n",
    "            else:\n",
    "                print \"Node does not have answer\"\n",
    "        \n",
    "    def predict(self, test_data):\n",
    "        ans = []\n",
    "        for elem in test_data:\n",
    "            ans.append(self.predict_for_one(elem))\n",
    "        return ans"
   ]
  },
  {
   "cell_type": "markdown",
   "metadata": {},
   "source": [
    "Проверила его на выборке из задания 2."
   ]
  },
  {
   "cell_type": "code",
   "execution_count": 3,
   "metadata": {
    "collapsed": false
   },
   "outputs": [
    {
     "name": "stderr",
     "output_type": "stream",
     "text": [
      "/home/nimloth/anaconda3/envs/python27/lib/python2.7/site-packages/ipykernel/__main__.py:3: FutureWarning: reshape is deprecated and will raise in a subsequent release. Please use .values.reshape(...) instead\n",
      "  app.launch_new_instance()\n"
     ]
    }
   ],
   "source": [
    "samples = pd.read_csv('german_credit.csv')\n",
    "N = samples.shape[0]\n",
    "y = samples['Creditability'].reshape(1, N)[0]\n",
    "x = np.array(samples)\n",
    "x = np.array([elem[1:] for elem in x]).reshape(N, 20)"
   ]
  },
  {
   "cell_type": "code",
   "execution_count": 4,
   "metadata": {
    "collapsed": false
   },
   "outputs": [],
   "source": [
    "tree = DecisionTreeClassifier(max_depth=4)"
   ]
  },
  {
   "cell_type": "code",
   "execution_count": 5,
   "metadata": {
    "collapsed": false
   },
   "outputs": [],
   "source": [
    "train_data, test_data, train_target, test_target = train_test_split(x, y,\n",
    "                                                                   test_size = 0.2)"
   ]
  },
  {
   "cell_type": "code",
   "execution_count": 6,
   "metadata": {
    "collapsed": false
   },
   "outputs": [],
   "source": [
    "tree.fit(train_data, train_target)"
   ]
  },
  {
   "cell_type": "code",
   "execution_count": 7,
   "metadata": {
    "collapsed": true
   },
   "outputs": [],
   "source": [
    "test_predictions = tree.predict(test_data)"
   ]
  },
  {
   "cell_type": "code",
   "execution_count": 8,
   "metadata": {
    "collapsed": false
   },
   "outputs": [
    {
     "name": "stdout",
     "output_type": "stream",
     "text": [
      "0.725\n"
     ]
    }
   ],
   "source": [
    "print accuracy_score(test_predictions, test_target)"
   ]
  },
  {
   "cell_type": "markdown",
   "metadata": {},
   "source": [
    "Вау! Он классно работает! Прямо как во втором задании точность."
   ]
  },
  {
   "cell_type": "markdown",
   "metadata": {},
   "source": [
    "Немного переписав решающее дерево получим класс для решения задачи регрессии."
   ]
  },
  {
   "cell_type": "code",
   "execution_count": 73,
   "metadata": {
    "collapsed": true
   },
   "outputs": [],
   "source": [
    "#основные атрибуты это self.threshold, self.arg - по какому признаку и порогу делим вершину\n",
    "#атрибут self.ans отвечает за ответ в данной вершине\n",
    "#атрибуты self.L, self.R содержат в себе левое и правле поддеревья\n",
    "class DecisionTreeRegressor:\n",
    "    #инициалицируем все дерево, используя глубину\n",
    "    def __init__(self, max_depth):\n",
    "        self.max_depth = max_depth\n",
    "        if self.max_depth != 1:\n",
    "            self.L = DecisionTreeRegressor(max_depth=self.max_depth - 1)\n",
    "            self.R = DecisionTreeRegressor(max_depth=self.max_depth - 1)\n",
    "    #взвешенная функция нехорошести\n",
    "    def variance(self, A, B):\n",
    "        N = len(A) + len(B)\n",
    "        L = len(A)\n",
    "        R = len(B)\n",
    "        if L == 0 or R == 0:\n",
    "            return 100000000\n",
    "        g = L / N * np.array(A).var()\n",
    "        + R / N * np.array(B).var()\n",
    "        return g\n",
    "            \n",
    "    def fit(self, train_data, train_target):\n",
    "        \n",
    "        self.ans = np.array(train_target).mean()\n",
    "            \n",
    "        if self.max_depth == 1:\n",
    "            return\n",
    "        \n",
    "        #перебираем все признаки и пороги в поиске наименьшей функции нехорошести\n",
    "        #устанавливаем атрибуты self.arg, self.thresholf\n",
    "        min_g = 100000000\n",
    "        for ith_arg in range(len(train_data[0])):\n",
    "            for jth_threshold in range(len(train_data)):\n",
    "                threshold = train_data[jth_threshold][ith_arg]\n",
    "                A = []\n",
    "                B = []\n",
    "                for jth_elem in range(len(train_data)):\n",
    "                    if train_data[jth_elem][ith_arg] <= threshold:\n",
    "                        A.append(train_target[jth_elem])\n",
    "                    else:\n",
    "                        B.append(train_target[jth_elem])\n",
    "                g = self.variance(A, B)\n",
    "                if g < min_g:\n",
    "                    self.threshold = threshold\n",
    "                    self.arg = ith_arg\n",
    "                    min_g = g\n",
    "                    \n",
    "        if min_g == 100000000:\n",
    "            return\n",
    "        \n",
    "        #делим выборку на 2 вершины и запускаемся от них рекурсивно\n",
    "        A_train = []\n",
    "        A_target = []\n",
    "        B_train = []\n",
    "        B_target = []\n",
    "        for jth_elem in range(len(train_data)):\n",
    "            if train_data[jth_elem][self.arg] <= self.threshold:\n",
    "                A_train.append(train_data[jth_elem])\n",
    "                A_target.append(train_target[jth_elem])\n",
    "            else:\n",
    "                B_train.append(train_data[jth_elem])\n",
    "                B_target.append(train_target[jth_elem])\n",
    "        self.L.fit(A_train, A_target)\n",
    "        self.R.fit(B_train, B_target)\n",
    "    \n",
    "    #пропихивает выборку по вершинам решающего дерева пока может, иначе выдает ответ в вершине\n",
    "    def predict_for_one(self, test_data):\n",
    "        if hasattr(self, 'threshold'):\n",
    "            if test_data[self.arg] <= self.threshold:\n",
    "                return self.L.predict_for_one(test_data)\n",
    "            else:\n",
    "                return self.R.predict_for_one(test_data)\n",
    "        else:\n",
    "            if hasattr(self, 'ans'):\n",
    "                return self.ans\n",
    "            else:\n",
    "                print \"Node does not have answer\"\n",
    "        \n",
    "    def predict(self, test_data):\n",
    "        ans = []\n",
    "        for elem in test_data:\n",
    "            ans.append(self.predict_for_one(elem))\n",
    "        return ans"
   ]
  },
  {
   "cell_type": "markdown",
   "metadata": {},
   "source": [
    "Проверим точность на датасете Бостон."
   ]
  },
  {
   "cell_type": "code",
   "execution_count": 88,
   "metadata": {
    "collapsed": true
   },
   "outputs": [],
   "source": [
    "from sklearn.datasets import load_boston"
   ]
  },
  {
   "cell_type": "code",
   "execution_count": 96,
   "metadata": {
    "collapsed": true
   },
   "outputs": [],
   "source": [
    "samples = load_boston()\n",
    "x = samples.data\n",
    "y = samples.target"
   ]
  },
  {
   "cell_type": "code",
   "execution_count": 132,
   "metadata": {
    "collapsed": false
   },
   "outputs": [],
   "source": [
    "tree = DecisionTreeRegressor(max_depth=4)"
   ]
  },
  {
   "cell_type": "code",
   "execution_count": 133,
   "metadata": {
    "collapsed": true
   },
   "outputs": [],
   "source": [
    "train_data, test_data, train_target, test_target = train_test_split(x, y,\n",
    "                                                                   test_size = 0.25)"
   ]
  },
  {
   "cell_type": "code",
   "execution_count": 134,
   "metadata": {
    "collapsed": false
   },
   "outputs": [],
   "source": [
    "tree.fit(train_data, train_target)"
   ]
  },
  {
   "cell_type": "code",
   "execution_count": 135,
   "metadata": {
    "collapsed": false
   },
   "outputs": [],
   "source": [
    "test_predictions = tree.predict(test_data)"
   ]
  },
  {
   "cell_type": "code",
   "execution_count": 136,
   "metadata": {
    "collapsed": false
   },
   "outputs": [
    {
     "name": "stdout",
     "output_type": "stream",
     "text": [
      "46.0218550283\n"
     ]
    }
   ],
   "source": [
    "print mean_squared_error(test_predictions, test_target)"
   ]
  },
  {
   "cell_type": "markdown",
   "metadata": {},
   "source": [
    "Неплохо... Но могло бы быть и лучше..."
   ]
  }
 ],
 "metadata": {
  "anaconda-cloud": {},
  "kernelspec": {
   "display_name": "Python [conda env:python27]",
   "language": "python",
   "name": "conda-env-python27-py"
  },
  "language_info": {
   "codemirror_mode": {
    "name": "ipython",
    "version": 2
   },
   "file_extension": ".py",
   "mimetype": "text/x-python",
   "name": "python",
   "nbconvert_exporter": "python",
   "pygments_lexer": "ipython2",
   "version": "2.7.13"
  }
 },
 "nbformat": 4,
 "nbformat_minor": 1
}
