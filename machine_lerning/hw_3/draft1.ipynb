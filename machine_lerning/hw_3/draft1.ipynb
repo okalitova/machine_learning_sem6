{
 "cells": [
  {
   "cell_type": "code",
   "execution_count": 172,
   "metadata": {
    "collapsed": true
   },
   "outputs": [],
   "source": [
    "import pandas as pd\n",
    "from sklearn.model_selection import cross_val_score\n",
    "import numpy as np\n",
    "from sklearn.ensemble import GradientBoostingRegressor\n",
    "from sklearn.ensemble import RandomForestRegressor\n",
    "from sklearn.model_selection import TimeSeriesSplit"
   ]
  },
  {
   "cell_type": "code",
   "execution_count": 183,
   "metadata": {
    "collapsed": false
   },
   "outputs": [],
   "source": [
    "train = pd.read_csv(\"train.tsv\")\n",
    "test = pd.read_csv(\"test.tsv\")\n",
    "sample_submission = pd.read_csv(\"sample_submission.tsv\")\n",
    "N = train.shape[0]"
   ]
  },
  {
   "cell_type": "code",
   "execution_count": 184,
   "metadata": {
    "collapsed": false
   },
   "outputs": [
    {
     "name": "stderr",
     "output_type": "stream",
     "text": [
      "/home/nimloth/anaconda3/envs/python27/lib/python2.7/site-packages/ipykernel/__main__.py:18: FutureWarning: sort(columns=....) is deprecated, use sort_values(by=.....)\n",
      "/home/nimloth/anaconda3/envs/python27/lib/python2.7/site-packages/ipykernel/__main__.py:22: FutureWarning: reshape is deprecated and will raise in a subsequent release. Please use .values.reshape(...) instead\n"
     ]
    }
   ],
   "source": [
    "frac = 0.1 # fraction of learning examples used for model fitting\n",
    "\n",
    "# sample the train set if your don't want to deel with all examples\n",
    "#train = train.tail(n=int(N * frac))\n",
    "train = train.sample(frac=frac, random_state=57)\n",
    "\n",
    "N = train.shape[0]\n",
    "\n",
    "train['week'] = train['week'] - train['shift']\n",
    "\n",
    "for i in range(N):\n",
    "    if train['week'].values[i] <= 0:\n",
    "        train['week'].values[i] = (train['week'].values[i] + 52) % 53\n",
    "        train['year'].values[i] = (train['year'].values[i] - 1)\n",
    "\n",
    "train = train.drop(['shift'], axis=1)\n",
    "\n",
    "train = train.sort(['year', 'week'])\n",
    "\n",
    "X = train.drop(['Num', 'y'], axis=1)\n",
    "\n",
    "y = train['y'].reshape(N, 1)\n",
    "y = [elem[0] for elem in y]"
   ]
  },
  {
   "cell_type": "code",
   "execution_count": 185,
   "metadata": {
    "collapsed": true
   },
   "outputs": [],
   "source": [
    "def smape(y, y_pred, **kwargs):\n",
    "    y = np.array(y)\n",
    "    y_pred = np.array(y_pred)\n",
    "    ans = (np.abs(y - y_pred) * 1.0 / (np.abs(y) + np.abs(y_pred))).mean() * 100\n",
    "    return ans * 2\n",
    "\n",
    "from sklearn.metrics import make_scorer\n",
    "scorer = make_scorer(score_func=smape)"
   ]
  },
  {
   "cell_type": "code",
   "execution_count": 186,
   "metadata": {
    "collapsed": false
   },
   "outputs": [],
   "source": [
    "tscv = TimeSeriesSplit(n_splits=3)"
   ]
  },
  {
   "cell_type": "code",
   "execution_count": 187,
   "metadata": {
    "collapsed": false
   },
   "outputs": [],
   "source": [
    "# X = X.drop(['item_id', 'year', 'week'], axis=1)\n",
    "# X = np.array(X)\n",
    "# X = [[a * b for a in x for b in x] + list(x ** 3) + list(x) for x in X]\n",
    "\n",
    "# from sklearn.linear_model import LinearRegression\n",
    "# model = LinearRegression()\n",
    "# accuracy = cross_val_score(model, X, y, cv=tscv, scoring=scorer)\n",
    "# print(accuracy)"
   ]
  },
  {
   "cell_type": "code",
   "execution_count": 188,
   "metadata": {
    "collapsed": false
   },
   "outputs": [
    {
     "name": "stdout",
     "output_type": "stream",
     "text": [
      "(array([ 30.87590497,  26.36072864,  35.55006779]), 100, 14, 43)\n"
     ]
    }
   ],
   "source": [
    "for tress_number in [100]:\n",
    "    for depth in [14]:\n",
    "        for random_state in [43]:\n",
    "            model = RandomForestRegressor(n_estimators=tress_number, max_depth=depth,\n",
    "                                              random_state=random_state, criterion='mse')\n",
    "            accuracy = cross_val_score(model, X, y, scoring=scorer, cv=tscv)\n",
    "            print(accuracy, tress_number, depth, random_state)"
   ]
  },
  {
   "cell_type": "code",
   "execution_count": null,
   "metadata": {
    "collapsed": false
   },
   "outputs": [],
   "source": [
    "%%time\n",
    "from sklearn.ensemble import GradientBoostingRegressor\n",
    "\n",
    "#model = GradientBoostingRegressor(n_estimators=100, max_depth=5, random_state=43)\n",
    "model.fit(X, y)\n",
    "\n",
    "N = test.shape[0]\n",
    "\n",
    "test['week'] = test['week'] - test['shift']\n",
    "\n",
    "for i in range(N):\n",
    "    if test['week'].values[i] <= 0:\n",
    "        test['week'].values[i] = (test['week'].values[i] + 52) % 53\n",
    "        test['year'].values[i] = (test['year'].values[i] - 1)\n",
    "\n",
    "test = test.drop(['shift'], axis=1)\n",
    "\n",
    "X = test.drop(['Num'], axis=1)\n",
    "\n",
    "preds = model.predict(X)\n",
    "\n",
    "print len(preds)\n",
    "print len(sample_submission)"
   ]
  },
  {
   "cell_type": "code",
   "execution_count": null,
   "metadata": {
    "collapsed": true
   },
   "outputs": [],
   "source": [
    "sample_submission['y'] = preds"
   ]
  },
  {
   "cell_type": "code",
   "execution_count": null,
   "metadata": {
    "collapsed": true
   },
   "outputs": [],
   "source": [
    "sample_submission['y'] = sample_submission['y'].map(lambda x: x if x > 0 else 0.0)"
   ]
  },
  {
   "cell_type": "code",
   "execution_count": null,
   "metadata": {
    "collapsed": true
   },
   "outputs": [],
   "source": [
    "sample_submission.to_csv(\"baseline_submission.tsv\", sep=',', index=False)"
   ]
  },
  {
   "cell_type": "code",
   "execution_count": null,
   "metadata": {
    "collapsed": true
   },
   "outputs": [],
   "source": []
  }
 ],
 "metadata": {
  "anaconda-cloud": {},
  "kernelspec": {
   "display_name": "Python [conda env:python27]",
   "language": "python",
   "name": "conda-env-python27-py"
  },
  "language_info": {
   "codemirror_mode": {
    "name": "ipython",
    "version": 2
   },
   "file_extension": ".py",
   "mimetype": "text/x-python",
   "name": "python",
   "nbconvert_exporter": "python",
   "pygments_lexer": "ipython2",
   "version": "2.7.13"
  }
 },
 "nbformat": 4,
 "nbformat_minor": 1
}
