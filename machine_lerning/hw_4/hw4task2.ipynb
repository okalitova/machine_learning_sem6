{
 "cells": [
  {
   "cell_type": "code",
   "execution_count": 132,
   "metadata": {
    "collapsed": true
   },
   "outputs": [],
   "source": [
    "import pandas as pd\n",
    "import numpy as np\n",
    "from sklearn.feature_extraction.text import CountVectorizer\n",
    "from sklearn.model_selection import train_test_split\n",
    "from sklearn.linear_model import LogisticRegression\n",
    "from sklearn.metrics import roc_auc_score\n",
    "from sklearn.metrics import accuracy_score"
   ]
  },
  {
   "cell_type": "code",
   "execution_count": 396,
   "metadata": {
    "collapsed": true
   },
   "outputs": [],
   "source": [
    "samples = pd.read_table(\"task2_lemmas_train\", sep=',',\n",
    "                        error_bad_lines=False, warn_bad_lines=False)\n",
    "test = pd.read_table(\"task2_lemmas_test\", sep=',')"
   ]
  },
  {
   "cell_type": "code",
   "execution_count": 397,
   "metadata": {
    "collapsed": false
   },
   "outputs": [
    {
     "name": "stdout",
     "output_type": "stream",
     "text": [
      "   Id             X              y\n",
      "0   1  vergognerete   vergognare+V\n",
      "1   2  amnistiavate   amnistiare+V\n",
      "2   3   menomazione  menomazione+N\n",
      "3   4    sfaldavamo     sfaldare+V\n",
      "4   5    sfodererei    sfoderare+V\n",
      "   Id                X\n",
      "0   1         gettonan\n",
      "1   2      incidentali\n",
      "2   3        involtino\n",
      "3   4            lievi\n",
      "4   5  comunistizzasse\n"
     ]
    }
   ],
   "source": [
    "print(samples.head())\n",
    "print(test.head())"
   ]
  },
  {
   "cell_type": "code",
   "execution_count": 264,
   "metadata": {
    "collapsed": false
   },
   "outputs": [],
   "source": [
    "# sample = [\"abd\", \"z\", \"abd\", \"z\", \"zm\", \"www\"]\n",
    "# transformer = CountVectorizer(analyzer='word', token_pattern=\"(?u)\\\\b\\\\w+\\\\b\")\n",
    "# x = transformer.fit_transform(sample)\n",
    "# print(x)\n",
    "# print(transformer.get_feature_names())"
   ]
  },
  {
   "cell_type": "code",
   "execution_count": 398,
   "metadata": {
    "collapsed": true
   },
   "outputs": [],
   "source": [
    "transformer = CountVectorizer(analyzer='char', ngram_range=(2, 6))"
   ]
  },
  {
   "cell_type": "code",
   "execution_count": 399,
   "metadata": {
    "collapsed": true
   },
   "outputs": [],
   "source": [
    "word_classes = CountVectorizer(analyzer='word', token_pattern=\"(?u)\\\\b\\\\w+\\\\b\")"
   ]
  },
  {
   "cell_type": "code",
   "execution_count": 400,
   "metadata": {
    "collapsed": false
   },
   "outputs": [],
   "source": [
    "xtrain, xtest = train_test_split(samples)"
   ]
  },
  {
   "cell_type": "code",
   "execution_count": 401,
   "metadata": {
    "collapsed": true
   },
   "outputs": [],
   "source": [
    "X = xtrain['X']\n",
    "y = xtrain['y']\n",
    "y = [elem.split(\"+\") for elem in y]\n",
    "y_norm, y_form = zip(*y)"
   ]
  },
  {
   "cell_type": "code",
   "execution_count": 402,
   "metadata": {
    "collapsed": true
   },
   "outputs": [],
   "source": [
    "train_matrix = transformer.fit_transform(X)"
   ]
  },
  {
   "cell_type": "code",
   "execution_count": 270,
   "metadata": {
    "collapsed": true
   },
   "outputs": [],
   "source": [
    "# def cl(x):\n",
    "#     if x == 'a':\n",
    "#         return 0\n",
    "#     if x == 'b':"
   ]
  },
  {
   "cell_type": "code",
   "execution_count": 271,
   "metadata": {
    "collapsed": false
   },
   "outputs": [],
   "source": [
    "# train_target = [cl(yy) for yy in y_form]"
   ]
  },
  {
   "cell_type": "code",
   "execution_count": 403,
   "metadata": {
    "collapsed": false
   },
   "outputs": [],
   "source": [
    "predictor = LogisticRegression().fit(train_matrix, y_form)"
   ]
  },
  {
   "cell_type": "code",
   "execution_count": 273,
   "metadata": {
    "collapsed": true
   },
   "outputs": [],
   "source": [
    "X = xtest['X']\n",
    "y = xtest['y']\n",
    "y = [elem.split(\"+\") for elem in y]\n",
    "y_norm, y_form = zip(*y)"
   ]
  },
  {
   "cell_type": "code",
   "execution_count": 274,
   "metadata": {
    "collapsed": true
   },
   "outputs": [],
   "source": [
    "test_matrix = transformer.transform(X)"
   ]
  },
  {
   "cell_type": "code",
   "execution_count": 275,
   "metadata": {
    "collapsed": false
   },
   "outputs": [],
   "source": [
    "preds = predictor.predict_proba(test_matrix)"
   ]
  },
  {
   "cell_type": "code",
   "execution_count": 276,
   "metadata": {
    "collapsed": false
   },
   "outputs": [
    {
     "data": {
      "text/plain": [
       "0.99254495293519829"
      ]
     },
     "execution_count": 276,
     "metadata": {},
     "output_type": "execute_result"
    }
   ],
   "source": [
    "roc_auc_score(word_classes.fit_transform(y_form).toarray(), preds)"
   ]
  },
  {
   "cell_type": "markdown",
   "metadata": {},
   "source": [
    "# Endings"
   ]
  },
  {
   "cell_type": "code",
   "execution_count": 277,
   "metadata": {
    "collapsed": true
   },
   "outputs": [],
   "source": [
    "def endings_classifier(X, y_norm):\n",
    "    endings = []\n",
    "    for i in range(X.shape[0]):\n",
    "#         print(type(X[i]))\n",
    "        x = X[i]\n",
    "#         print(X[i])\n",
    "        y = y_norm[i]\n",
    "        stem = 0\n",
    "        for j in range(len(x)):\n",
    "            if j < len(y):\n",
    "                if y[j] == x[j]:\n",
    "                    stem = stem + 1\n",
    "        x_end = x[stem:]\n",
    "        y_end = y[stem:]\n",
    "        line = str(str(stem) + \" \" + y_end)\n",
    "        endings.append(line)\n",
    "    return endings"
   ]
  },
  {
   "cell_type": "code",
   "execution_count": 316,
   "metadata": {
    "collapsed": true
   },
   "outputs": [],
   "source": [
    "X = xtrain['X']\n",
    "y = xtrain['y']\n",
    "y = [elem.split(\"+\") for elem in y]\n",
    "y_norm, y_form = zip(*y)"
   ]
  },
  {
   "cell_type": "code",
   "execution_count": 317,
   "metadata": {
    "collapsed": true
   },
   "outputs": [],
   "source": [
    "train_matrix = transformer.fit_transform(X)"
   ]
  },
  {
   "cell_type": "code",
   "execution_count": 326,
   "metadata": {
    "collapsed": false
   },
   "outputs": [],
   "source": [
    "endings_transformation = CountVectorizer(analyzer='word', token_pattern=\".+\")"
   ]
  },
  {
   "cell_type": "code",
   "execution_count": 327,
   "metadata": {
    "collapsed": false
   },
   "outputs": [
    {
     "name": "stdout",
     "output_type": "stream",
     "text": [
      "296\n",
      "['0 essere', '0 grande', '1 enire', '1 ettere', '1 io', '1 orire', '1 ssere', '1 uocere', '10 ', '10 a']\n"
     ]
    }
   ],
   "source": [
    "X = np.array(X)\n",
    "y_new = endings_classifier(X, y_norm)\n",
    "endings_transformation.fit_transform(y_new)\n",
    "print(len(endings_transformation.get_feature_names()))\n",
    "print(endings_transformation.get_feature_names()[:10])"
   ]
  },
  {
   "cell_type": "code",
   "execution_count": 282,
   "metadata": {
    "collapsed": false
   },
   "outputs": [],
   "source": [
    "predictor = LogisticRegression().fit(train_matrix, y_new)"
   ]
  },
  {
   "cell_type": "code",
   "execution_count": 344,
   "metadata": {
    "collapsed": true
   },
   "outputs": [],
   "source": [
    "X = xtest['X']\n",
    "y = xtest['y']\n",
    "y = [elem.split(\"+\") for elem in y]\n",
    "y_norm, y_form = zip(*y)"
   ]
  },
  {
   "cell_type": "code",
   "execution_count": 345,
   "metadata": {
    "collapsed": true
   },
   "outputs": [],
   "source": [
    "test_matrix = transformer.transform(X)"
   ]
  },
  {
   "cell_type": "code",
   "execution_count": 349,
   "metadata": {
    "collapsed": false
   },
   "outputs": [],
   "source": [
    "preds = predictor.predict_proba(test_matrix)"
   ]
  },
  {
   "cell_type": "code",
   "execution_count": 350,
   "metadata": {
    "collapsed": false
   },
   "outputs": [],
   "source": [
    "y_new_test = endings_classifier(np.array(xtest['X']), y_norm)"
   ]
  },
  {
   "cell_type": "code",
   "execution_count": 351,
   "metadata": {
    "collapsed": false
   },
   "outputs": [
    {
     "name": "stdout",
     "output_type": "stream",
     "text": [
      "<class 'numpy.ndarray'>\n",
      "<class 'numpy.ndarray'>\n"
     ]
    }
   ],
   "source": [
    "print(type(endings_transformation.transform(y_new_test).toarray()))\n",
    "print(type(preds))"
   ]
  },
  {
   "cell_type": "code",
   "execution_count": 355,
   "metadata": {
    "collapsed": false
   },
   "outputs": [
    {
     "name": "stdout",
     "output_type": "stream",
     "text": [
      "(29120, 296) (29120, 296)\n"
     ]
    }
   ],
   "source": [
    "y_true = endings_transformation.transform(y_new_test).toarray()"
   ]
  },
  {
   "cell_type": "code",
   "execution_count": 359,
   "metadata": {
    "collapsed": false
   },
   "outputs": [],
   "source": [
    "X = test['X']"
   ]
  },
  {
   "cell_type": "code",
   "execution_count": 360,
   "metadata": {
    "collapsed": true
   },
   "outputs": [],
   "source": [
    "test_matrix = transformer.transform(X)"
   ]
  },
  {
   "cell_type": "code",
   "execution_count": 361,
   "metadata": {
    "collapsed": true
   },
   "outputs": [],
   "source": [
    "preds = predictor.predict_proba(test_matrix)"
   ]
  },
  {
   "cell_type": "code",
   "execution_count": 362,
   "metadata": {
    "collapsed": true
   },
   "outputs": [],
   "source": [
    "names = endings_transformation.get_feature_names()"
   ]
  },
  {
   "cell_type": "code",
   "execution_count": 373,
   "metadata": {
    "collapsed": false
   },
   "outputs": [],
   "source": [
    "a = [list(zip(preds[i], names)) for i in range(len(preds))]"
   ]
  },
  {
   "cell_type": "code",
   "execution_count": 383,
   "metadata": {
    "collapsed": false
   },
   "outputs": [],
   "source": [
    "b = [max(x)[1] for x in a]"
   ]
  },
  {
   "cell_type": "code",
   "execution_count": 388,
   "metadata": {
    "collapsed": false
   },
   "outputs": [],
   "source": [
    "c = [int(x.split(\" \")[0]) for x in b]"
   ]
  },
  {
   "cell_type": "code",
   "execution_count": 389,
   "metadata": {
    "collapsed": true
   },
   "outputs": [],
   "source": [
    "d = [x.split(\" \")[1] for x in b]"
   ]
  },
  {
   "cell_type": "code",
   "execution_count": 392,
   "metadata": {
    "collapsed": false
   },
   "outputs": [],
   "source": [
    "ans = [X[i][:c[i]] + d[i] for i in range(len(X))]"
   ]
  },
  {
   "cell_type": "code",
   "execution_count": null,
   "metadata": {
    "collapsed": false
   },
   "outputs": [],
   "source": []
  },
  {
   "cell_type": "code",
   "execution_count": 405,
   "metadata": {
    "collapsed": true
   },
   "outputs": [],
   "source": [
    "X = test['X']"
   ]
  },
  {
   "cell_type": "code",
   "execution_count": 406,
   "metadata": {
    "collapsed": true
   },
   "outputs": [],
   "source": [
    "test_matrix = transformer.transform(X)"
   ]
  },
  {
   "cell_type": "code",
   "execution_count": 407,
   "metadata": {
    "collapsed": true
   },
   "outputs": [],
   "source": [
    "preds = predictor.predict_proba(test_matrix)"
   ]
  },
  {
   "cell_type": "code",
   "execution_count": 408,
   "metadata": {
    "collapsed": true
   },
   "outputs": [],
   "source": [
    "a = [list(zip(preds[i], ['a', 'n', 'v'])) for i in range(len(preds))]"
   ]
  },
  {
   "cell_type": "code",
   "execution_count": 412,
   "metadata": {
    "collapsed": true
   },
   "outputs": [],
   "source": [
    "b = [max(x)[1].upper() for x in a]"
   ]
  },
  {
   "cell_type": "code",
   "execution_count": 413,
   "metadata": {
    "collapsed": false
   },
   "outputs": [
    {
     "name": "stdout",
     "output_type": "stream",
     "text": [
      "['V', 'A', 'V', 'N', 'V', 'V', 'V', 'V', 'V', 'V']\n"
     ]
    }
   ],
   "source": [
    "print(b[:10])"
   ]
  },
  {
   "cell_type": "code",
   "execution_count": 414,
   "metadata": {
    "collapsed": true
   },
   "outputs": [],
   "source": [
    "final = [ans[i] + \"+\" + b[i] for i in range(len(b))]"
   ]
  },
  {
   "cell_type": "code",
   "execution_count": 416,
   "metadata": {
    "collapsed": false
   },
   "outputs": [],
   "source": [
    "preds = final"
   ]
  },
  {
   "cell_type": "code",
   "execution_count": 419,
   "metadata": {
    "collapsed": false
   },
   "outputs": [
    {
     "name": "stdout",
     "output_type": "stream",
     "text": [
      "29661 29661\n"
     ]
    }
   ],
   "source": [
    "submission = pd.read_csv(\"task2_lemmas_sample_submission (1)\")\n",
    "print(len(preds), submission.shape[0])\n",
    "submission['Category'] = preds\n",
    "submission.head(5)\n",
    "submission.to_csv(\"baseline_submission.tsv\", sep=',', index=False)"
   ]
  },
  {
   "cell_type": "code",
   "execution_count": null,
   "metadata": {
    "collapsed": true
   },
   "outputs": [],
   "source": []
  }
 ],
 "metadata": {
  "anaconda-cloud": {},
  "kernelspec": {
   "display_name": "Python [conda root]",
   "language": "python",
   "name": "conda-root-py"
  },
  "language_info": {
   "codemirror_mode": {
    "name": "ipython",
    "version": 3
   },
   "file_extension": ".py",
   "mimetype": "text/x-python",
   "name": "python",
   "nbconvert_exporter": "python",
   "pygments_lexer": "ipython3",
   "version": "3.5.2"
  }
 },
 "nbformat": 4,
 "nbformat_minor": 1
}
