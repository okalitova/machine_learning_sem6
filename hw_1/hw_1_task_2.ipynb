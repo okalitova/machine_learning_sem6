{
 "cells": [
  {
   "cell_type": "code",
   "execution_count": 4,
   "metadata": {
    "collapsed": false
   },
   "outputs": [],
   "source": [
    "from sklearn import cross_validation, datasets, metrics, neighbors \n",
    "import numpy as np\n",
    "import matplotlib.pyplot as plt\n",
    "from matplotlib.colors import ListedColormap\n",
    "from pandas import DataFrame"
   ]
  },
  {
   "cell_type": "code",
   "execution_count": 29,
   "metadata": {
    "collapsed": false
   },
   "outputs": [
    {
     "name": "stdout",
     "output_type": "stream",
     "text": [
      "     0    1    2     3     4     5    6    7    8    9   ...     55   56   57  \\\n",
      "0  0.0  0.0  5.0  13.0   9.0   1.0  0.0  0.0  0.0  0.0   ...    0.0  0.0  0.0   \n",
      "1  0.0  0.0  0.0  12.0  13.0   5.0  0.0  0.0  0.0  0.0   ...    0.0  0.0  0.0   \n",
      "2  0.0  0.0  0.0   4.0  15.0  12.0  0.0  0.0  0.0  0.0   ...    0.0  0.0  0.0   \n",
      "3  0.0  0.0  7.0  15.0  13.0   1.0  0.0  0.0  0.0  8.0   ...    0.0  0.0  0.0   \n",
      "4  0.0  0.0  0.0   1.0  11.0   0.0  0.0  0.0  0.0  0.0   ...    0.0  0.0  0.0   \n",
      "\n",
      "    58    59    60    61   62   63  target  \n",
      "0  6.0  13.0  10.0   0.0  0.0  0.0       0  \n",
      "1  0.0  11.0  16.0  10.0  0.0  0.0       1  \n",
      "2  0.0   3.0  11.0  16.0  9.0  0.0       2  \n",
      "3  7.0  13.0  13.0   9.0  0.0  0.0       3  \n",
      "4  0.0   2.0  16.0   4.0  0.0  0.0       4  \n",
      "\n",
      "[5 rows x 65 columns]\n"
     ]
    }
   ],
   "source": [
    "digits = datasets.load_digits()\n",
    "\n",
    "digits_frame = DataFrame(digits.data)\n",
    "digits_frame['target'] = digits.target\n",
    "\n",
    "print digits_frame.head()"
   ]
  },
  {
   "cell_type": "code",
   "execution_count": 18,
   "metadata": {
    "collapsed": false
   },
   "outputs": [
    {
     "name": "stdout",
     "output_type": "stream",
     "text": [
      "   mean radius  mean texture  mean perimeter  mean area  mean smoothness  \\\n",
      "0        17.99         10.38          122.80     1001.0          0.11840   \n",
      "1        20.57         17.77          132.90     1326.0          0.08474   \n",
      "2        19.69         21.25          130.00     1203.0          0.10960   \n",
      "3        11.42         20.38           77.58      386.1          0.14250   \n",
      "4        20.29         14.34          135.10     1297.0          0.10030   \n",
      "\n",
      "   mean compactness  mean concavity  mean concave points  mean symmetry  \\\n",
      "0           0.27760          0.3001              0.14710         0.2419   \n",
      "1           0.07864          0.0869              0.07017         0.1812   \n",
      "2           0.15990          0.1974              0.12790         0.2069   \n",
      "3           0.28390          0.2414              0.10520         0.2597   \n",
      "4           0.13280          0.1980              0.10430         0.1809   \n",
      "\n",
      "   mean fractal dimension    ...      worst texture  worst perimeter  \\\n",
      "0                 0.07871    ...              17.33           184.60   \n",
      "1                 0.05667    ...              23.41           158.80   \n",
      "2                 0.05999    ...              25.53           152.50   \n",
      "3                 0.09744    ...              26.50            98.87   \n",
      "4                 0.05883    ...              16.67           152.20   \n",
      "\n",
      "   worst area  worst smoothness  worst compactness  worst concavity  \\\n",
      "0      2019.0            0.1622             0.6656           0.7119   \n",
      "1      1956.0            0.1238             0.1866           0.2416   \n",
      "2      1709.0            0.1444             0.4245           0.4504   \n",
      "3       567.7            0.2098             0.8663           0.6869   \n",
      "4      1575.0            0.1374             0.2050           0.4000   \n",
      "\n",
      "   worst concave points  worst symmetry  worst fractal dimension     target  \n",
      "0                0.2654          0.4601                  0.11890  malignant  \n",
      "1                0.1860          0.2750                  0.08902  malignant  \n",
      "2                0.2430          0.3613                  0.08758  malignant  \n",
      "3                0.2575          0.6638                  0.17300  malignant  \n",
      "4                0.1625          0.2364                  0.07678  malignant  \n",
      "\n",
      "[5 rows x 31 columns]\n"
     ]
    }
   ],
   "source": [
    "cancer = datasets.load_breast_cancer()\n",
    "\n",
    "cancer_frame = DataFrame(cancer.data)\n",
    "cancer_frame.columns = cancer.feature_names\n",
    "cancer_frame['target'] = cancer.target\n",
    "cancer_frame.target = cancer_frame.target.apply(lambda x : cancer.target_names[x])\n",
    "\n",
    "print cancer_frame.head()"
   ]
  },
  {
   "cell_type": "code",
   "execution_count": 31,
   "metadata": {
    "collapsed": false
   },
   "outputs": [],
   "source": [
    "from sklearn import model_selection as ms\n",
    "from sklearn import naive_bayes as nb"
   ]
  },
  {
   "cell_type": "code",
   "execution_count": 42,
   "metadata": {
    "collapsed": false
   },
   "outputs": [
    {
     "name": "stdout",
     "output_type": "stream",
     "text": [
      "0.825823650778 0.627420402859\n"
     ]
    }
   ],
   "source": [
    "clf = nb.BernoulliNB()\n",
    "bernoulli_accuracy_digits = ms.cross_val_score(clf, digits.data, digits.target).mean()\n",
    "bernoulli_accuracy_cancer = ms.cross_val_score(clf, cancer.data, cancer.target).mean()\n",
    "print bernoulli_accuracy_digits, bernoulli_accuracy_cancer"
   ]
  },
  {
   "cell_type": "code",
   "execution_count": 43,
   "metadata": {
    "collapsed": false
   },
   "outputs": [
    {
     "name": "stdout",
     "output_type": "stream",
     "text": [
      "0.870877148974 0.894579040193\n"
     ]
    }
   ],
   "source": [
    "clf = nb.MultinomialNB()\n",
    "multinomial_accuracy_digits = ms.cross_val_score(clf, digits.data, digits.target).mean()\n",
    "multinomial_accuracy_cancer = ms.cross_val_score(clf, cancer.data, cancer.target).mean()\n",
    "print multinomial_accuracy_digits, multinomial_accuracy_cancer"
   ]
  },
  {
   "cell_type": "code",
   "execution_count": 44,
   "metadata": {
    "collapsed": false
   },
   "outputs": [
    {
     "name": "stdout",
     "output_type": "stream",
     "text": [
      "0.818600380355 0.936749280609\n"
     ]
    }
   ],
   "source": [
    "clf = nb.GaussianNB()\n",
    "gaussian_accuracy_digits = ms.cross_val_score(clf, digits.data, digits.target).mean()\n",
    "gaussian_accuracy_cancer = ms.cross_val_score(clf, cancer.data, cancer.target).mean()\n",
    "print gaussian_accuracy_digits, gaussian_accuracy_cancer"
   ]
  },
  {
   "cell_type": "markdown",
   "metadata": {},
   "source": [
    "Логично, что распределение бернулли дало самые плохие результаты, так как оно слишком простое и, видимо, плохо приближает признаки, так как они устроены сложнее.\n",
    "Логично, что мультиминомиальное распределение дало хороший результат для чисел, так как определить число - это выбрать один вариант из 10, где они между собой особо независимы и можно предположить, что и признаки распределены соответствующим образом (как минимум они целые числа).\n",
    "Логично, что нормальное распределение лучше всего подошло в случае рака, так как раковая опухоль - явление природное и логично, что ее размер и прочие характеристики распределены нормально."
   ]
  },
  {
   "cell_type": "markdown",
   "metadata": {},
   "source": [
    "1. На датасете breast_cancer максимальное качество классфикации вышло - 93.7%\n",
    "2. На датасете digits максимальное качество классфикации вышло - 87.1%\n",
    "3. d верно, остальные, вроде, нет"
   ]
  }
 ],
 "metadata": {
  "kernelspec": {
   "display_name": "Python 2",
   "language": "python",
   "name": "python2"
  },
  "language_info": {
   "codemirror_mode": {
    "name": "ipython",
    "version": 2
   },
   "file_extension": ".py",
   "mimetype": "text/x-python",
   "name": "python",
   "nbconvert_exporter": "python",
   "pygments_lexer": "ipython2",
   "version": "2.7.13"
  }
 },
 "nbformat": 4,
 "nbformat_minor": 2
}
